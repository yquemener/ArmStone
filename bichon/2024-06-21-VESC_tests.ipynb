{
 "cells": [
  {
   "cell_type": "code",
   "execution_count": 1,
   "id": "88c470d5-3b2b-46cc-93bf-567a42c96119",
   "metadata": {},
   "outputs": [],
   "source": [
    "from pyvesc import VESC\n",
    "import time\n",
    "\n",
    "serial_port = '/dev/serial/by-id/usb-STMicroelectronics_ChibiOS_RT_Virtual_COM_Port_304-if00'\n",
    "\n",
    "\n",
    "# a function to show how to use the class with a with-statement\n",
    "def run_motor_using_with():\n",
    "    with VESC(serial_port=serial_port) as motor:\n",
    "        print(\"Firmware: \", motor.get_firmware_version())\n",
    "        motor.set_duty_cycle(.02)\n",
    "\n",
    "        # run motor and print out rpm for ~2 seconds\n",
    "        for i in range(30):\n",
    "            time.sleep(0.1)\n",
    "            print(motor.get_measurements().rpm)\n",
    "        motor.set_rpm(0)\n",
    "\n",
    "\n",
    "# a function to show how to use the class as a static object.\n",
    "def run_motor_as_object():\n",
    "    motor = VESC(serial_port=serial_port)\n",
    "    print(\"Firmware: \", motor.get_firmware_version())\n",
    "\n",
    "    # sweep servo through full range\n",
    "    for i in range(100):\n",
    "        time.sleep(0.01)\n",
    "        motor.set_servo(i/100)\n",
    "\n",
    "    # IMPORTANT: YOU MUST STOP THE HEARTBEAT IF IT IS RUNNING BEFORE IT GOES OUT OF SCOPE. Otherwise, it will not\n",
    "    #            clean-up properly.\n",
    "    motor.stop_heartbeat()\n",
    "\n",
    "\n",
    "def time_get_values():\n",
    "    with VESC(serial_port=serial_port) as motor:\n",
    "        start = time.time()\n",
    "        motor.get_measurements()\n",
    "        stop = time.time()\n",
    "        print(\"Getting values takes \", stop-start, \"seconds.\")"
   ]
  },
  {
   "cell_type": "code",
   "execution_count": 26,
   "id": "6222b6bd-dff2-4cd9-aec2-c54bc1b31369",
   "metadata": {},
   "outputs": [
    {
     "name": "stderr",
     "output_type": "stream",
     "text": [
      "Exception in thread Thread-6 (_heartbeat_cmd_func):\n",
      "Traceback (most recent call last):\n",
      "  File \"/home/yves/.local/lib/python3.10/site-packages/serial/serialposix.py\", line 621, in write\n",
      "    n = os.write(self.fd, d)\n",
      "OSError: [Errno 5] Input/output error\n",
      "\n",
      "During handling of the above exception, another exception occurred:\n",
      "\n",
      "Traceback (most recent call last):\n",
      "  File \"/usr/lib/python3.10/threading.py\", line 1016, in _bootstrap_inner\n",
      "    self.run()\n",
      "  File \"/home/yves/.local/lib/python3.10/site-packages/ipykernel/ipkernel.py\", line 766, in run_closure\n",
      "    _threading_Thread_run(self)\n",
      "  File \"/usr/lib/python3.10/threading.py\", line 953, in run\n",
      "    self._target(*self._args, **self._kwargs)\n",
      "  File \"/home/yves/softs/PyVESC/pyvesc/VESC/VESC.py\", line 62, in _heartbeat_cmd_func\n",
      "    self.write(alive_msg)\n",
      "  File \"/home/yves/softs/PyVESC/pyvesc/VESC/VESC.py\", line 87, in write\n",
      "    self.serial_port.write(data)\n",
      "  File \"/home/yves/.local/lib/python3.10/site-packages/serial/serialposix.py\", line 655, in write\n",
      "    raise SerialException('write failed: {}'.format(e))\n",
      "serial.serialutil.SerialException: write failed: [Errno 5] Input/output error\n"
     ]
    }
   ],
   "source": [
    "motor = VESC(serial_port=serial_port)"
   ]
  },
  {
   "cell_type": "code",
   "execution_count": 10,
   "id": "f553e0cb-0ad7-41c5-96f0-9d36daf4a16e",
   "metadata": {},
   "outputs": [],
   "source": [
    "motor.set_duty_cycle(.0)"
   ]
  },
  {
   "cell_type": "code",
   "execution_count": 5,
   "id": "29fec16b-a081-4594-98bf-d4d15be0efe4",
   "metadata": {},
   "outputs": [],
   "source": [
    "from ivlib.utils import fdir"
   ]
  },
  {
   "cell_type": "code",
   "execution_count": 6,
   "id": "3a1a2a87-c854-4ece-ae98-faaa1bdaeab7",
   "metadata": {},
   "outputs": [
    {
     "data": {
      "text/html": [
       "<table>\n",
       "<tr><td>_get_values_msg</td><td style='text-align:left'>&lt;class &#x27;bytes&#x27;&gt;&nbsp;:&nbsp;b&#x27;\\x02\\x01\\x04@\\x84\\x03&#x27;</td></tr>\n",
       "<tr><td>_get_values_msg_expected_length</td><td style='text-align:left'>&lt;class &#x27;int&#x27;&gt;&nbsp;:&nbsp;72</td></tr>\n",
       "<tr><td>_heartbeat_cmd_func</td><td style='text-align:left'>&lt;class &#x27;method&#x27;&gt;</td></tr>\n",
       "<tr><td>_stop_heartbeat</td><td style='text-align:left'>&lt;class &#x27;threading.Event&#x27;&gt;&nbsp;:&nbsp;&lt;threading.Event object at 0x7f7da02cfa90&gt;</td></tr>\n",
       "<tr><td>get_duty_cycle</td><td style='text-align:left'>&lt;class &#x27;method&#x27;&gt;</td></tr>\n",
       "<tr><td>get_firmware_version</td><td style='text-align:left'>&lt;class &#x27;method&#x27;&gt;</td></tr>\n",
       "<tr><td>get_incoming_current</td><td style='text-align:left'>&lt;class &#x27;method&#x27;&gt;</td></tr>\n",
       "<tr><td>get_measurements</td><td style='text-align:left'>&lt;class &#x27;method&#x27;&gt;</td></tr>\n",
       "<tr><td>get_motor_current</td><td style='text-align:left'>&lt;class &#x27;method&#x27;&gt;</td></tr>\n",
       "<tr><td>get_rpm</td><td style='text-align:left'>&lt;class &#x27;method&#x27;&gt;</td></tr>\n",
       "<tr><td>get_v_in</td><td style='text-align:left'>&lt;class &#x27;method&#x27;&gt;</td></tr>\n",
       "<tr><td>heart_beat_thread</td><td style='text-align:left'>&lt;class &#x27;threading.Thread&#x27;&gt;&nbsp;:&nbsp;&lt;Thread(Thread-5 (_heartbeat_cmd_func), started 140177045444160)&gt;</td></tr>\n",
       "<tr><td>serial_port</td><td style='text-align:left'>&lt;class &#x27;serial.serialposix.Serial&#x27;&gt;&nbsp;:&nbsp;Serial&lt;id=0x7f7da02cf640, open=True&gt;(port=&#x27;/dev/serial/by-id/usb-STMicroelectronics_ChibiOS_RT_Virtu</td></tr>\n",
       "<tr><td>set_current</td><td style='text-align:left'>&lt;class &#x27;method&#x27;&gt;</td></tr>\n",
       "<tr><td>set_duty_cycle</td><td style='text-align:left'>&lt;class &#x27;method&#x27;&gt;</td></tr>\n",
       "<tr><td>set_rpm</td><td style='text-align:left'>&lt;class &#x27;method&#x27;&gt;</td></tr>\n",
       "<tr><td>set_servo</td><td style='text-align:left'>&lt;class &#x27;method&#x27;&gt;</td></tr>\n",
       "<tr><td>start_heartbeat</td><td style='text-align:left'>&lt;class &#x27;method&#x27;&gt;</td></tr>\n",
       "<tr><td>stop_heartbeat</td><td style='text-align:left'>&lt;class &#x27;method&#x27;&gt;</td></tr>\n",
       "<tr><td>write</td><td style='text-align:left'>&lt;class &#x27;method&#x27;&gt;</td></tr>\n",
       "</table>"
      ],
      "text/plain": [
       "<IPython.core.display.HTML object>"
      ]
     },
     "metadata": {},
     "output_type": "display_data"
    }
   ],
   "source": [
    "fdir(motor)"
   ]
  },
  {
   "cell_type": "code",
   "execution_count": 27,
   "id": "9ad4b231-8daa-4ab3-b8aa-00fca89cff1b",
   "metadata": {},
   "outputs": [
    {
     "data": {
      "text/plain": [
       "0.0"
      ]
     },
     "execution_count": 27,
     "metadata": {},
     "output_type": "execute_result"
    }
   ],
   "source": [
    "motor.get_rpm()"
   ]
  },
  {
   "cell_type": "code",
   "execution_count": 12,
   "id": "7712be7e-935a-4da8-b4bf-c42ce009d527",
   "metadata": {},
   "outputs": [],
   "source": [
    "from time import sleep"
   ]
  },
  {
   "cell_type": "code",
   "execution_count": 31,
   "id": "5dbfa95e-7aa6-419c-9055-59ca080752c2",
   "metadata": {},
   "outputs": [],
   "source": [
    "for i in range(100):\n",
    "    motor.set_duty_cycle(i*.005)\n",
    "    sleep(0.02)\n",
    "motor.set_duty_cycle(.0)"
   ]
  },
  {
   "cell_type": "code",
   "execution_count": 24,
   "id": "646f2582-ee20-40ab-9d34-71c7764442ad",
   "metadata": {},
   "outputs": [
    {
     "data": {
      "text/html": [
       "<table>\n",
       "<tr><td>_field_names</td><td style='text-align:left'>&lt;class &#x27;list&#x27;&gt;&nbsp;:&nbsp;[&#x27;temp_fet&#x27;, &#x27;temp_motor&#x27;, &#x27;avg_motor_current&#x27;, &#x27;avg_input_current&#x27;, &#x27;avg_id&#x27;, &#x27;avg_iq&#x27;, &#x27;duty_cycle</td></tr>\n",
       "<tr><td>_field_scalars</td><td style='text-align:left'>&lt;class &#x27;list&#x27;&gt;&nbsp;:&nbsp;[10, 10, 100, 100, 100, 100, 1000, 1, 10, 10000, 10000, 10000, 10000, 1, 1, 0, 1000000, 0, 1]</td></tr>\n",
       "<tr><td>_fmt_fields</td><td style='text-align:left'>&lt;class &#x27;str&#x27;&gt;&nbsp;:&nbsp;&#x27;hhiiiihihiiiiiicici&#x27;</td></tr>\n",
       "<tr><td>_full_msg_size</td><td style='text-align:left'>&lt;class &#x27;int&#x27;&gt;&nbsp;:&nbsp;72</td></tr>\n",
       "<tr><td>_string_field</td><td style='text-align:left'>&lt;class &#x27;NoneType&#x27;&gt;&nbsp;:&nbsp;None</td></tr>\n",
       "<tr><td>amp_hours</td><td style='text-align:left'>&lt;class &#x27;float&#x27;&gt;&nbsp;:&nbsp;0.0001</td></tr>\n",
       "<tr><td>amp_hours_charged</td><td style='text-align:left'>&lt;class &#x27;float&#x27;&gt;&nbsp;:&nbsp;0.0</td></tr>\n",
       "<tr><td>app_controller_id</td><td style='text-align:left'>&lt;class &#x27;bytes&#x27;&gt;&nbsp;:&nbsp;b&#x27;l&#x27;</td></tr>\n",
       "<tr><td>avg_id</td><td style='text-align:left'>&lt;class &#x27;float&#x27;&gt;&nbsp;:&nbsp;0.0</td></tr>\n",
       "<tr><td>avg_input_current</td><td style='text-align:left'>&lt;class &#x27;float&#x27;&gt;&nbsp;:&nbsp;0.0</td></tr>\n",
       "<tr><td>avg_iq</td><td style='text-align:left'>&lt;class &#x27;float&#x27;&gt;&nbsp;:&nbsp;0.0</td></tr>\n",
       "<tr><td>avg_motor_current</td><td style='text-align:left'>&lt;class &#x27;float&#x27;&gt;&nbsp;:&nbsp;-0.01</td></tr>\n",
       "<tr><td>can_id</td><td style='text-align:left'>&lt;class &#x27;NoneType&#x27;&gt;&nbsp;:&nbsp;None</td></tr>\n",
       "<tr><td>duty_cycle_now</td><td style='text-align:left'>&lt;class &#x27;float&#x27;&gt;&nbsp;:&nbsp;0.1</td></tr>\n",
       "<tr><td>fields</td><td style='text-align:left'>&lt;class &#x27;list&#x27;&gt;&nbsp;:&nbsp;[(&#x27;temp_fet&#x27;, &#x27;h&#x27;, 10), (&#x27;temp_motor&#x27;, &#x27;h&#x27;, 10), (&#x27;avg_motor_current&#x27;, &#x27;i&#x27;, 100), (&#x27;avg_input_curren</td></tr>\n",
       "<tr><td>id</td><td style='text-align:left'>&lt;enum &#x27;VedderCmd&#x27;&gt;&nbsp;:&nbsp;&lt;VedderCmd.COMM_GET_VALUES: 4&gt;</td></tr>\n",
       "<tr><td>mc_fault_code</td><td style='text-align:left'>&lt;class &#x27;bytes&#x27;&gt;&nbsp;:&nbsp;b&#x27;\\x00&#x27;</td></tr>\n",
       "<tr><td>pid_pos_now</td><td style='text-align:left'>&lt;class &#x27;float&#x27;&gt;&nbsp;:&nbsp;235.02856</td></tr>\n",
       "<tr><td>rpm</td><td style='text-align:left'>&lt;class &#x27;float&#x27;&gt;&nbsp;:&nbsp;-47.0</td></tr>\n",
       "<tr><td>tachometer</td><td style='text-align:left'>&lt;class &#x27;float&#x27;&gt;&nbsp;:&nbsp;0.0</td></tr>\n",
       "<tr><td>tachometer_abs</td><td style='text-align:left'>&lt;class &#x27;float&#x27;&gt;&nbsp;:&nbsp;0.0</td></tr>\n",
       "<tr><td>temp_fet</td><td style='text-align:left'>&lt;class &#x27;float&#x27;&gt;&nbsp;:&nbsp;26.8</td></tr>\n",
       "<tr><td>temp_motor</td><td style='text-align:left'>&lt;class &#x27;float&#x27;&gt;&nbsp;:&nbsp;-78.1</td></tr>\n",
       "<tr><td>time_ms</td><td style='text-align:left'>&lt;class &#x27;float&#x27;&gt;&nbsp;:&nbsp;0.0</td></tr>\n",
       "<tr><td>v_in</td><td style='text-align:left'>&lt;class &#x27;float&#x27;&gt;&nbsp;:&nbsp;51.9</td></tr>\n",
       "<tr><td>watt_hours</td><td style='text-align:left'>&lt;class &#x27;float&#x27;&gt;&nbsp;:&nbsp;0.0069</td></tr>\n",
       "<tr><td>watt_hours_charged</td><td style='text-align:left'>&lt;class &#x27;float&#x27;&gt;&nbsp;:&nbsp;0.0</td></tr>\n",
       "</table>"
      ],
      "text/plain": [
       "<IPython.core.display.HTML object>"
      ]
     },
     "metadata": {},
     "output_type": "display_data"
    }
   ],
   "source": [
    "fdir(motor.get_measurements())"
   ]
  },
  {
   "cell_type": "code",
   "execution_count": 23,
   "id": "0deea20d-3507-4bb9-a6c3-e00ca8a64920",
   "metadata": {},
   "outputs": [],
   "source": [
    "motor.set_duty_cycle(.1)"
   ]
  },
  {
   "cell_type": "code",
   "execution_count": 25,
   "id": "8f35ef2f-e9eb-4dcd-9899-320c977a1109",
   "metadata": {},
   "outputs": [],
   "source": [
    "motor.set_duty_cycle(.0)"
   ]
  },
  {
   "cell_type": "code",
   "execution_count": null,
   "id": "52b056ee-5f4e-43b5-a7a7-b78685202226",
   "metadata": {},
   "outputs": [],
   "source": []
  }
 ],
 "metadata": {
  "kernelspec": {
   "display_name": "Python 3 (ipykernel)",
   "language": "python",
   "name": "python3"
  },
  "language_info": {
   "codemirror_mode": {
    "name": "ipython",
    "version": 3
   },
   "file_extension": ".py",
   "mimetype": "text/x-python",
   "name": "python",
   "nbconvert_exporter": "python",
   "pygments_lexer": "ipython3",
   "version": "3.10.12"
  }
 },
 "nbformat": 4,
 "nbformat_minor": 5
}
