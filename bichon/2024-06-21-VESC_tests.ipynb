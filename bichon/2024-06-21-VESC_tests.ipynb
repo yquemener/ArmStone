{
 "cells": [
  {
   "cell_type": "code",
   "execution_count": 11,
   "id": "52b056ee-5f4e-43b5-a7a7-b78685202226",
   "metadata": {},
   "outputs": [
    {
     "name": "stdout",
     "output_type": "stream",
     "text": [
      "['/dev/serial/by-path/pci-0000:00:14.0-usb-0:7.4.3:1.0', '/dev/serial/by-path/pci-0000:00:14.0-usb-0:7.2:1.0', '/dev/serial/by-path/pci-0000:00:14.0-usb-0:7.3:1.0', '/dev/serial/by-path/pci-0000:00:14.0-usb-0:7.1:1.0']\n"
     ]
    },
    {
     "ename": "SerialException",
     "evalue": "[Errno 2] could not open port /dev/serial/by-path/pci-0000:00:14.0-usb-0:7.4.3:1.0: [Errno 2] No such file or directory: '/dev/serial/by-path/pci-0000:00:14.0-usb-0:7.4.3:1.0'",
     "output_type": "error",
     "traceback": [
      "\u001b[0;31m---------------------------------------------------------------------------\u001b[0m",
      "\u001b[0;31mFileNotFoundError\u001b[0m                         Traceback (most recent call last)",
      "File \u001b[0;32m~/.local/lib/python3.8/site-packages/serial/serialposix.py:322\u001b[0m, in \u001b[0;36mSerial.open\u001b[0;34m(self)\u001b[0m\n\u001b[1;32m    321\u001b[0m \u001b[38;5;28;01mtry\u001b[39;00m:\n\u001b[0;32m--> 322\u001b[0m     \u001b[38;5;28mself\u001b[39m\u001b[38;5;241m.\u001b[39mfd \u001b[38;5;241m=\u001b[39m \u001b[43mos\u001b[49m\u001b[38;5;241;43m.\u001b[39;49m\u001b[43mopen\u001b[49m\u001b[43m(\u001b[49m\u001b[38;5;28;43mself\u001b[39;49m\u001b[38;5;241;43m.\u001b[39;49m\u001b[43mportstr\u001b[49m\u001b[43m,\u001b[49m\u001b[43m \u001b[49m\u001b[43mos\u001b[49m\u001b[38;5;241;43m.\u001b[39;49m\u001b[43mO_RDWR\u001b[49m\u001b[43m \u001b[49m\u001b[38;5;241;43m|\u001b[39;49m\u001b[43m \u001b[49m\u001b[43mos\u001b[49m\u001b[38;5;241;43m.\u001b[39;49m\u001b[43mO_NOCTTY\u001b[49m\u001b[43m \u001b[49m\u001b[38;5;241;43m|\u001b[39;49m\u001b[43m \u001b[49m\u001b[43mos\u001b[49m\u001b[38;5;241;43m.\u001b[39;49m\u001b[43mO_NONBLOCK\u001b[49m\u001b[43m)\u001b[49m\n\u001b[1;32m    323\u001b[0m \u001b[38;5;28;01mexcept\u001b[39;00m \u001b[38;5;167;01mOSError\u001b[39;00m \u001b[38;5;28;01mas\u001b[39;00m msg:\n",
      "\u001b[0;31mFileNotFoundError\u001b[0m: [Errno 2] No such file or directory: '/dev/serial/by-path/pci-0000:00:14.0-usb-0:7.4.3:1.0'",
      "\nDuring handling of the above exception, another exception occurred:\n",
      "\u001b[0;31mSerialException\u001b[0m                           Traceback (most recent call last)",
      "Cell \u001b[0;32mIn[11], line 27\u001b[0m\n\u001b[1;32m     25\u001b[0m \u001b[38;5;28;01mfor\u001b[39;00m vesc \u001b[38;5;129;01min\u001b[39;00m vescs:\n\u001b[1;32m     26\u001b[0m     sleep(\u001b[38;5;241m0.5\u001b[39m)\n\u001b[0;32m---> 27\u001b[0m     motors\u001b[38;5;241m.\u001b[39mappend(\u001b[43mVESC\u001b[49m\u001b[43m(\u001b[49m\u001b[43mserial_port\u001b[49m\u001b[38;5;241;43m=\u001b[39;49m\u001b[43mvesc\u001b[49m\u001b[43m)\u001b[49m)\n\u001b[1;32m     29\u001b[0m front_left \u001b[38;5;241m=\u001b[39m motors[\u001b[38;5;241m1\u001b[39m]\n\u001b[1;32m     30\u001b[0m front_right \u001b[38;5;241m=\u001b[39m motors[\u001b[38;5;241m3\u001b[39m]\n",
      "File \u001b[0;32m~/.local/lib/python3.8/site-packages/pyvesc/VESC/VESC.py:27\u001b[0m, in \u001b[0;36mVESC.__init__\u001b[0;34m(self, serial_port, has_sensor, start_heartbeat, baudrate, timeout)\u001b[0m\n\u001b[1;32m     24\u001b[0m \u001b[38;5;28;01mif\u001b[39;00m serial \u001b[38;5;129;01mis\u001b[39;00m \u001b[38;5;28;01mNone\u001b[39;00m:\n\u001b[1;32m     25\u001b[0m     \u001b[38;5;28;01mraise\u001b[39;00m \u001b[38;5;167;01mImportError\u001b[39;00m(\u001b[38;5;124m\"\u001b[39m\u001b[38;5;124mNeed to install pyserial in order to use the VESCMotor class.\u001b[39m\u001b[38;5;124m\"\u001b[39m)\n\u001b[0;32m---> 27\u001b[0m \u001b[38;5;28mself\u001b[39m\u001b[38;5;241m.\u001b[39mserial_port \u001b[38;5;241m=\u001b[39m \u001b[43mserial\u001b[49m\u001b[38;5;241;43m.\u001b[39;49m\u001b[43mSerial\u001b[49m\u001b[43m(\u001b[49m\u001b[43mport\u001b[49m\u001b[38;5;241;43m=\u001b[39;49m\u001b[43mserial_port\u001b[49m\u001b[43m,\u001b[49m\u001b[43m \u001b[49m\u001b[43mbaudrate\u001b[49m\u001b[38;5;241;43m=\u001b[39;49m\u001b[43mbaudrate\u001b[49m\u001b[43m,\u001b[49m\u001b[43m \u001b[49m\u001b[43mtimeout\u001b[49m\u001b[38;5;241;43m=\u001b[39;49m\u001b[43mtimeout\u001b[49m\u001b[43m)\u001b[49m\n\u001b[1;32m     28\u001b[0m \u001b[38;5;28;01mif\u001b[39;00m has_sensor:\n\u001b[1;32m     29\u001b[0m     \u001b[38;5;28mself\u001b[39m\u001b[38;5;241m.\u001b[39mserial_port\u001b[38;5;241m.\u001b[39mwrite(encode(SetRotorPositionMode(SetRotorPositionMode\u001b[38;5;241m.\u001b[39mDISP_POS_OFF)))\n",
      "File \u001b[0;32m~/.local/lib/python3.8/site-packages/serial/serialutil.py:244\u001b[0m, in \u001b[0;36mSerialBase.__init__\u001b[0;34m(self, port, baudrate, bytesize, parity, stopbits, timeout, xonxoff, rtscts, write_timeout, dsrdtr, inter_byte_timeout, exclusive, **kwargs)\u001b[0m\n\u001b[1;32m    241\u001b[0m     \u001b[38;5;28;01mraise\u001b[39;00m \u001b[38;5;167;01mValueError\u001b[39;00m(\u001b[38;5;124m'\u001b[39m\u001b[38;5;124munexpected keyword arguments: \u001b[39m\u001b[38;5;132;01m{!r}\u001b[39;00m\u001b[38;5;124m'\u001b[39m\u001b[38;5;241m.\u001b[39mformat(kwargs))\n\u001b[1;32m    243\u001b[0m \u001b[38;5;28;01mif\u001b[39;00m port \u001b[38;5;129;01mis\u001b[39;00m \u001b[38;5;129;01mnot\u001b[39;00m \u001b[38;5;28;01mNone\u001b[39;00m:\n\u001b[0;32m--> 244\u001b[0m     \u001b[38;5;28;43mself\u001b[39;49m\u001b[38;5;241;43m.\u001b[39;49m\u001b[43mopen\u001b[49m\u001b[43m(\u001b[49m\u001b[43m)\u001b[49m\n",
      "File \u001b[0;32m~/.local/lib/python3.8/site-packages/serial/serialposix.py:325\u001b[0m, in \u001b[0;36mSerial.open\u001b[0;34m(self)\u001b[0m\n\u001b[1;32m    323\u001b[0m \u001b[38;5;28;01mexcept\u001b[39;00m \u001b[38;5;167;01mOSError\u001b[39;00m \u001b[38;5;28;01mas\u001b[39;00m msg:\n\u001b[1;32m    324\u001b[0m     \u001b[38;5;28mself\u001b[39m\u001b[38;5;241m.\u001b[39mfd \u001b[38;5;241m=\u001b[39m \u001b[38;5;28;01mNone\u001b[39;00m\n\u001b[0;32m--> 325\u001b[0m     \u001b[38;5;28;01mraise\u001b[39;00m SerialException(msg\u001b[38;5;241m.\u001b[39merrno, \u001b[38;5;124m\"\u001b[39m\u001b[38;5;124mcould not open port \u001b[39m\u001b[38;5;132;01m{}\u001b[39;00m\u001b[38;5;124m: \u001b[39m\u001b[38;5;132;01m{}\u001b[39;00m\u001b[38;5;124m\"\u001b[39m\u001b[38;5;241m.\u001b[39mformat(\u001b[38;5;28mself\u001b[39m\u001b[38;5;241m.\u001b[39m_port, msg))\n\u001b[1;32m    326\u001b[0m \u001b[38;5;66;03m#~ fcntl.fcntl(self.fd, fcntl.F_SETFL, 0)  # set blocking\u001b[39;00m\n\u001b[1;32m    328\u001b[0m \u001b[38;5;28mself\u001b[39m\u001b[38;5;241m.\u001b[39mpipe_abort_read_r, \u001b[38;5;28mself\u001b[39m\u001b[38;5;241m.\u001b[39mpipe_abort_read_w \u001b[38;5;241m=\u001b[39m \u001b[38;5;28;01mNone\u001b[39;00m, \u001b[38;5;28;01mNone\u001b[39;00m\n",
      "\u001b[0;31mSerialException\u001b[0m: [Errno 2] could not open port /dev/serial/by-path/pci-0000:00:14.0-usb-0:7.4.3:1.0: [Errno 2] No such file or directory: '/dev/serial/by-path/pci-0000:00:14.0-usb-0:7.4.3:1.0'"
     ]
    }
   ],
   "source": [
    "from pyvesc import VESC\n",
    "from time import sleep\n",
    "from holonomic import *\n",
    "import os\n",
    "\n",
    "\n",
    "serial_names = ['pci-0000:00:14.0-usb-0:7.4.3:1.0',\n",
    "                'pci-0000:00:14.0-usb-0:7.2:1.0',\n",
    "                'pci-0000:00:14.0-usb-0:7.3:1.0',\n",
    "                'pci-0000:00:14.0-usb-0:7.1:1.0']\n",
    "\n",
    "\n",
    "front_left = serial_names[1]\n",
    "front_right = serial_names[3]\n",
    "back_left = serial_names[2]\n",
    "back_right = serial_names[0]\n",
    "\n",
    "\n",
    "# vescs = /dev/serial/by-path/[vesc1, vesc2, vesc3, vesc4]\n",
    "p=\"/dev/serial/by-path/\"\n",
    "vescs = [p+fn for fn in serial_names]\n",
    "print(vescs)\n",
    "\n",
    "motors = list()\n",
    "for vesc in vescs:\n",
    "    sleep(0.5)\n",
    "    motors.append(VESC(serial_port=vesc))\n",
    "\n",
    "front_left = motors[1]\n",
    "front_right = motors[3]\n",
    "rear_left = motors[2]\n",
    "rear_right = motors[0]"
   ]
  },
  {
   "cell_type": "code",
   "execution_count": 2,
   "id": "d74fa357-a026-4ba4-9bed-dd75896b82f2",
   "metadata": {},
   "outputs": [],
   "source": [
    "for motor in motors:\n",
    "    motor.set_duty_cycle(.2)\n",
    "\n",
    "sleep(1)\n",
    "\n",
    "for motor in motors:\n",
    "   motor.set_duty_cycle(.0)"
   ]
  },
  {
   "cell_type": "code",
   "execution_count": 1,
   "id": "3c4d1d0c-bc8d-4bad-adda-6990c2d3aceb",
   "metadata": {},
   "outputs": [
    {
     "ename": "NameError",
     "evalue": "name 'front_left' is not defined",
     "output_type": "error",
     "traceback": [
      "\u001b[0;31m---------------------------------------------------------------------------\u001b[0m",
      "\u001b[0;31mNameError\u001b[0m                                 Traceback (most recent call last)",
      "Cell \u001b[0;32mIn[1], line 1\u001b[0m\n\u001b[0;32m----> 1\u001b[0m \u001b[43mfront_left\u001b[49m\u001b[38;5;241m.\u001b[39mset_duty_cycle(\u001b[38;5;241m.0\u001b[39m)\n",
      "\u001b[0;31mNameError\u001b[0m: name 'front_left' is not defined"
     ]
    }
   ],
   "source": [
    "front_left.set_duty_cycle(.0)"
   ]
  },
  {
   "cell_type": "code",
   "execution_count": null,
   "id": "184fac32-5d72-4730-836a-a0c0854a15a1",
   "metadata": {},
   "outputs": [],
   "source": [
    "inverse_kinematics(0,1,0,0,0)"
   ]
  },
  {
   "cell_type": "code",
   "execution_count": 20,
   "id": "3a7d5cce-ac50-4f4e-b9e4-dcbdd0485272",
   "metadata": {},
   "outputs": [
    {
     "ename": "TypeError",
     "evalue": "encode() missing 1 required positional argument: 'msg'",
     "output_type": "error",
     "traceback": [
      "\u001b[0;31m---------------------------------------------------------------------------\u001b[0m",
      "\u001b[0;31mTypeError\u001b[0m                                 Traceback (most recent call last)",
      "Cell \u001b[0;32mIn[20], line 2\u001b[0m\n\u001b[1;32m      1\u001b[0m \u001b[38;5;28;01mimport\u001b[39;00m \u001b[38;5;21;01mpyvesc\u001b[39;00m\n\u001b[0;32m----> 2\u001b[0m \u001b[43mpyvesc\u001b[49m\u001b[38;5;241;43m.\u001b[39;49m\u001b[43mencode\u001b[49m\u001b[43m(\u001b[49m\u001b[43m)\u001b[49m\n",
      "\u001b[0;31mTypeError\u001b[0m: encode() missing 1 required positional argument: 'msg'"
     ]
    }
   ],
   "source": []
  },
  {
   "cell_type": "code",
   "execution_count": 21,
   "id": "4557c765-e143-41c9-b84a-9ec71d275e34",
   "metadata": {},
   "outputs": [
    {
     "data": {
      "text/plain": [
       "['__class__',\n",
       " '__delattr__',\n",
       " '__dict__',\n",
       " '__dir__',\n",
       " '__doc__',\n",
       " '__enter__',\n",
       " '__eq__',\n",
       " '__exit__',\n",
       " '__format__',\n",
       " '__ge__',\n",
       " '__getattribute__',\n",
       " '__gt__',\n",
       " '__hash__',\n",
       " '__init__',\n",
       " '__init_subclass__',\n",
       " '__le__',\n",
       " '__lt__',\n",
       " '__module__',\n",
       " '__ne__',\n",
       " '__new__',\n",
       " '__reduce__',\n",
       " '__reduce_ex__',\n",
       " '__repr__',\n",
       " '__setattr__',\n",
       " '__sizeof__',\n",
       " '__str__',\n",
       " '__subclasshook__',\n",
       " '__weakref__',\n",
       " '_heartbeat_cmd_func',\n",
       " 'get_duty_cycle',\n",
       " 'get_firmware_version',\n",
       " 'get_incoming_current',\n",
       " 'get_measurements',\n",
       " 'get_motor_current',\n",
       " 'get_rpm',\n",
       " 'get_v_in',\n",
       " 'set_current',\n",
       " 'set_duty_cycle',\n",
       " 'set_rpm',\n",
       " 'set_servo',\n",
       " 'start_heartbeat',\n",
       " 'stop_heartbeat',\n",
       " 'write']"
      ]
     },
     "execution_count": 21,
     "metadata": {},
     "output_type": "execute_result"
    }
   ],
   "source": [
    "dir(VESC)"
   ]
  },
  {
   "cell_type": "code",
   "execution_count": 3,
   "id": "8d07b15c-34bf-407c-8564-aca1a6a14f22",
   "metadata": {},
   "outputs": [
    {
     "data": {
      "text/plain": [
       "0.0"
      ]
     },
     "execution_count": 3,
     "metadata": {},
     "output_type": "execute_result"
    }
   ],
   "source": [
    "front_left.get_rpm()"
   ]
  },
  {
   "cell_type": "code",
   "execution_count": 6,
   "id": "e40123fa-a0ee-4164-ba6a-14e0a73c2966",
   "metadata": {},
   "outputs": [
    {
     "name": "stdout",
     "output_type": "stream",
     "text": [
      "0.0\n",
      "-94.0\n",
      "-83.0\n",
      "-78.0\n",
      "-74.0\n",
      "-72.0\n",
      "-94.0\n",
      "-94.0\n",
      "-69.0\n",
      "-69.0\n",
      "-64.0\n",
      "-61.0\n",
      "-75.0\n"
     ]
    },
    {
     "ename": "AttributeError",
     "evalue": "'NoneType' object has no attribute 'rpm'",
     "output_type": "error",
     "traceback": [
      "\u001b[0;31m---------------------------------------------------------------------------\u001b[0m",
      "\u001b[0;31mAttributeError\u001b[0m                            Traceback (most recent call last)",
      "Cell \u001b[0;32mIn[6], line 5\u001b[0m\n\u001b[1;32m      1\u001b[0m front_left\u001b[38;5;241m.\u001b[39mset_duty_cycle(\u001b[38;5;241m.2\u001b[39m)\n\u001b[1;32m      4\u001b[0m \u001b[38;5;28;01mwhile\u001b[39;00m \u001b[38;5;28;01mTrue\u001b[39;00m :\n\u001b[0;32m----> 5\u001b[0m     rpm \u001b[38;5;241m=\u001b[39m \u001b[43mfront_left\u001b[49m\u001b[38;5;241;43m.\u001b[39;49m\u001b[43mget_rpm\u001b[49m\u001b[43m(\u001b[49m\u001b[43m)\u001b[49m\n\u001b[1;32m      6\u001b[0m     \u001b[38;5;28mprint\u001b[39m(rpm)\n\u001b[1;32m      7\u001b[0m     sleep(\u001b[38;5;241m1\u001b[39m)\n",
      "File \u001b[0;32m~/bichon/PyVESC/pyvesc/VESC/VESC.py:133\u001b[0m, in \u001b[0;36mVESC.get_rpm\u001b[0;34m(self)\u001b[0m\n\u001b[1;32m    129\u001b[0m \u001b[38;5;28;01mdef\u001b[39;00m \u001b[38;5;21mget_rpm\u001b[39m(\u001b[38;5;28mself\u001b[39m):\n\u001b[1;32m    130\u001b[0m \u001b[38;5;250m    \u001b[39m\u001b[38;5;124;03m\"\"\"\u001b[39;00m\n\u001b[1;32m    131\u001b[0m \u001b[38;5;124;03m    :return: Current motor rpm\u001b[39;00m\n\u001b[1;32m    132\u001b[0m \u001b[38;5;124;03m    \"\"\"\u001b[39;00m\n\u001b[0;32m--> 133\u001b[0m     \u001b[38;5;28;01mreturn\u001b[39;00m \u001b[38;5;28;43mself\u001b[39;49m\u001b[38;5;241;43m.\u001b[39;49m\u001b[43mget_measurements\u001b[49m\u001b[43m(\u001b[49m\u001b[43m)\u001b[49m\u001b[38;5;241;43m.\u001b[39;49m\u001b[43mrpm\u001b[49m\n",
      "\u001b[0;31mAttributeError\u001b[0m: 'NoneType' object has no attribute 'rpm'"
     ]
    }
   ],
   "source": [
    "front_left.set_duty_cycle(.2)\n",
    "\n",
    "\n",
    "while True :\n",
    "    rpm = front_left.get_rpm()\n",
    "    print(rpm)\n",
    "    sleep(1)"
   ]
  },
  {
   "cell_type": "code",
   "execution_count": null,
   "id": "dfbf1174-0e6f-4f5b-910a-bc3b1735a99e",
   "metadata": {},
   "outputs": [],
   "source": [
    "front_left.set_duty_cycle(.2)"
   ]
  },
  {
   "cell_type": "code",
   "execution_count": 37,
   "id": "0b6282e2-afb4-41cc-9be3-42820e5ca60b",
   "metadata": {},
   "outputs": [
    {
     "name": "stdout",
     "output_type": "stream",
     "text": [
      "0.0 57\r"
     ]
    },
    {
     "ename": "KeyboardInterrupt",
     "evalue": "",
     "output_type": "error",
     "traceback": [
      "\u001b[0;31m---------------------------------------------------------------------------\u001b[0m",
      "\u001b[0;31mKeyboardInterrupt\u001b[0m                         Traceback (most recent call last)",
      "Cell \u001b[0;32mIn[37], line 10\u001b[0m\n\u001b[1;32m      8\u001b[0m     \u001b[38;5;28;01mcontinue\u001b[39;00m\n\u001b[1;32m      9\u001b[0m \u001b[38;5;28mprint\u001b[39m(rpm, rcount, end\u001b[38;5;241m=\u001b[39m\u001b[38;5;124m\"\u001b[39m\u001b[38;5;130;01m\\r\u001b[39;00m\u001b[38;5;124m\"\u001b[39m)\n\u001b[0;32m---> 10\u001b[0m \u001b[43msleep\u001b[49m\u001b[43m(\u001b[49m\u001b[38;5;241;43m0.01\u001b[39;49m\u001b[43m)\u001b[49m\n",
      "\u001b[0;31mKeyboardInterrupt\u001b[0m: "
     ]
    }
   ],
   "source": [
    "rcount = 0\n",
    "while True :\n",
    "    try:\n",
    "        rpm = front_left.get_rpm()\n",
    "    except AttributeError:\n",
    "        rcount = rcount+1\n",
    "#        print(\"Error\", rcount, end=\"\\r\")\n",
    "        continue\n",
    "    print(rpm, rcount, end=\"\\r\")\n",
    "    sleep(0.01)"
   ]
  },
  {
   "cell_type": "code",
   "execution_count": 45,
   "id": "faf1db7b-3537-4b43-9be6-f0bd17313816",
   "metadata": {},
   "outputs": [],
   "source": [
    "front_left.set_duty_cycle(.0)"
   ]
  },
  {
   "cell_type": "code",
   "execution_count": null,
   "id": "5253214d-4651-4972-8f4e-152f63359ead",
   "metadata": {},
   "outputs": [],
   "source": []
  }
 ],
 "metadata": {
  "kernelspec": {
   "display_name": "Python 3 (ipykernel)",
   "language": "python",
   "name": "python3"
  },
  "language_info": {
   "codemirror_mode": {
    "name": "ipython",
    "version": 3
   },
   "file_extension": ".py",
   "mimetype": "text/x-python",
   "name": "python",
   "nbconvert_exporter": "python",
   "pygments_lexer": "ipython3",
   "version": "3.8.10"
  }
 },
 "nbformat": 4,
 "nbformat_minor": 5
}
