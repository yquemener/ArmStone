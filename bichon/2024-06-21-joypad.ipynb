{
 "cells": [
  {
   "cell_type": "code",
   "execution_count": 10,
   "id": "20d8fbc4-3f31-4b20-970c-3dca7d4c7607",
   "metadata": {},
   "outputs": [],
   "source": [
    "import pygame"
   ]
  },
  {
   "cell_type": "code",
   "execution_count": 11,
   "id": "f8fd6065-3bae-42f1-a031-ddf176eafaa0",
   "metadata": {},
   "outputs": [],
   "source": [
    "from IPython.display import display, HTML\n",
    "\n",
    "def fdir(obj):\n",
    "    s = \"<table>\\n\"\n",
    "    for n in dir(obj):\n",
    "        if not n.startswith(\"__\"):\n",
    "            try:\n",
    "                member = getattr(obj, n)\n",
    "            except Exception:\n",
    "                member = None\n",
    "            s += f\"<tr><td>{n}</td><td style='text-align:left'>{escape(repr(type(member)))}\"\n",
    "            if repr(type(member)) != \"<class 'method'>\":\n",
    "                try:\n",
    "                    result = escape(repr(getattr(obj, n))[:100])\n",
    "                except Exception:\n",
    "                    result = \"[error]\"\n",
    "                s += f\"&nbsp;:&nbsp;{result}</td></tr>\\n\"\n",
    "            else:\n",
    "                s += \"</td></tr>\\n\"\n",
    "    s += \"</table>\"\n",
    "    display(HTML(s))"
   ]
  },
  {
   "cell_type": "code",
   "execution_count": 12,
   "id": "a232b352-b91e-4e09-8aff-28c4a32d4a77",
   "metadata": {},
   "outputs": [],
   "source": [
    "pygame.joystick.init()\n",
    "joysticks = [pygame.joystick.Joystick(x) for x in range(pygame.joystick.get_count())]"
   ]
  },
  {
   "cell_type": "code",
   "execution_count": 13,
   "id": "3d159a7d-7eb8-4a18-81a3-2e99d7f9d16f",
   "metadata": {},
   "outputs": [
    {
     "data": {
      "text/plain": [
       "'Logitech Gamepad F710'"
      ]
     },
     "execution_count": 13,
     "metadata": {},
     "output_type": "execute_result"
    }
   ],
   "source": [
    "joysticks[0].get_name()"
   ]
  },
  {
   "cell_type": "code",
   "execution_count": 16,
   "id": "fd01daf3-b253-4464-a80c-48ef56b7975c",
   "metadata": {},
   "outputs": [
    {
     "ename": "NameError",
     "evalue": "name 'escape' is not defined",
     "output_type": "error",
     "traceback": [
      "\u001b[0;31m---------------------------------------------------------------------------\u001b[0m",
      "\u001b[0;31mNameError\u001b[0m                                 Traceback (most recent call last)",
      "Cell \u001b[0;32mIn[16], line 1\u001b[0m\n\u001b[0;32m----> 1\u001b[0m \u001b[43mfdir\u001b[49m\u001b[43m(\u001b[49m\u001b[43mjoysticks\u001b[49m\u001b[43m[\u001b[49m\u001b[38;5;241;43m0\u001b[39;49m\u001b[43m]\u001b[49m\u001b[43m)\u001b[49m\n",
      "Cell \u001b[0;32mIn[11], line 11\u001b[0m, in \u001b[0;36mfdir\u001b[0;34m(obj)\u001b[0m\n\u001b[1;32m      9\u001b[0m \u001b[38;5;28;01mexcept\u001b[39;00m \u001b[38;5;167;01mException\u001b[39;00m:\n\u001b[1;32m     10\u001b[0m     member \u001b[38;5;241m=\u001b[39m \u001b[38;5;28;01mNone\u001b[39;00m\n\u001b[0;32m---> 11\u001b[0m s \u001b[38;5;241m+\u001b[39m\u001b[38;5;241m=\u001b[39m \u001b[38;5;124mf\u001b[39m\u001b[38;5;124m\"\u001b[39m\u001b[38;5;124m<tr><td>\u001b[39m\u001b[38;5;132;01m{\u001b[39;00mn\u001b[38;5;132;01m}\u001b[39;00m\u001b[38;5;124m</td><td style=\u001b[39m\u001b[38;5;124m'\u001b[39m\u001b[38;5;124mtext-align:left\u001b[39m\u001b[38;5;124m'\u001b[39m\u001b[38;5;124m>\u001b[39m\u001b[38;5;132;01m{\u001b[39;00mescape(\u001b[38;5;28mrepr\u001b[39m(\u001b[38;5;28mtype\u001b[39m(member)))\u001b[38;5;132;01m}\u001b[39;00m\u001b[38;5;124m\"\u001b[39m\n\u001b[1;32m     12\u001b[0m \u001b[38;5;28;01mif\u001b[39;00m \u001b[38;5;28mrepr\u001b[39m(\u001b[38;5;28mtype\u001b[39m(member)) \u001b[38;5;241m!=\u001b[39m \u001b[38;5;124m\"\u001b[39m\u001b[38;5;124m<class \u001b[39m\u001b[38;5;124m'\u001b[39m\u001b[38;5;124mmethod\u001b[39m\u001b[38;5;124m'\u001b[39m\u001b[38;5;124m>\u001b[39m\u001b[38;5;124m\"\u001b[39m:\n\u001b[1;32m     13\u001b[0m     \u001b[38;5;28;01mtry\u001b[39;00m:\n",
      "\u001b[0;31mNameError\u001b[0m: name 'escape' is not defined"
     ]
    }
   ],
   "source": [
    "fdir(joysticks[0])"
   ]
  },
  {
   "cell_type": "code",
   "execution_count": 44,
   "id": "f29beff1-abbc-4e9f-95ab-651715780d30",
   "metadata": {},
   "outputs": [],
   "source": [
    "joysticks[0].init()"
   ]
  },
  {
   "cell_type": "code",
   "execution_count": 48,
   "id": "b7d2def5-74f6-43dc-b0f5-9024440c65dd",
   "metadata": {},
   "outputs": [],
   "source": [
    "from time import sleep"
   ]
  },
  {
   "cell_type": "code",
   "execution_count": 51,
   "id": "777d564e-45c8-4a0f-ad97-779c89ca6a05",
   "metadata": {},
   "outputs": [
    {
     "data": {
      "text/plain": [
       "<pygame.joystick.Joystick at 0x716120c6efd0>"
      ]
     },
     "execution_count": 51,
     "metadata": {},
     "output_type": "execute_result"
    }
   ],
   "source": [
    "pygame.joystick.Joystick(0)"
   ]
  },
  {
   "cell_type": "code",
   "execution_count": 52,
   "id": "1baa3f56-69f8-43ce-b5c1-e65f51d88fb7",
   "metadata": {},
   "outputs": [
    {
     "data": {
      "text/plain": [
       "<pygame.joystick.Joystick at 0x716120c6efd0>"
      ]
     },
     "execution_count": 52,
     "metadata": {},
     "output_type": "execute_result"
    }
   ],
   "source": [
    "joysticks[0]"
   ]
  },
  {
   "cell_type": "code",
   "execution_count": 53,
   "id": "430d74ad-802f-40a3-ada0-f42344820843",
   "metadata": {},
   "outputs": [
    {
     "data": {
      "text/plain": [
       "(5, 0)"
      ]
     },
     "execution_count": 53,
     "metadata": {},
     "output_type": "execute_result"
    }
   ],
   "source": [
    "pygame.init()"
   ]
  },
  {
   "cell_type": "code",
   "execution_count": 54,
   "id": "54e4f60e-969e-446e-b503-82345d83a116",
   "metadata": {},
   "outputs": [
    {
     "data": {
      "text/plain": [
       "[<Event(4352-AudioDeviceAdded {'which': 0, 'iscapture': 0})>,\n",
       " <Event(1536-JoyAxisMotion {'joy': 0, 'instance_id': 0, 'axis': 0, 'value': -0.003936887722403638})>,\n",
       " <Event(1536-JoyAxisMotion {'joy': 0, 'instance_id': 0, 'axis': 0, 'value': -1.000030518509476})>,\n",
       " <Event(1536-JoyAxisMotion {'joy': 0, 'instance_id': 0, 'axis': 0, 'value': -0.003936887722403638})>,\n",
       " <Event(1536-JoyAxisMotion {'joy': 0, 'instance_id': 0, 'axis': 1, 'value': -0.003936887722403638})>,\n",
       " <Event(1536-JoyAxisMotion {'joy': 0, 'instance_id': 0, 'axis': 1, 'value': 1.0})>,\n",
       " <Event(1536-JoyAxisMotion {'joy': 0, 'instance_id': 0, 'axis': 0, 'value': 1.0})>,\n",
       " <Event(1536-JoyAxisMotion {'joy': 0, 'instance_id': 0, 'axis': 1, 'value': -0.003936887722403638})>,\n",
       " <Event(1536-JoyAxisMotion {'joy': 0, 'instance_id': 0, 'axis': 1, 'value': -1.000030518509476})>,\n",
       " <Event(1536-JoyAxisMotion {'joy': 0, 'instance_id': 0, 'axis': 0, 'value': -0.003936887722403638})>,\n",
       " <Event(1536-JoyAxisMotion {'joy': 0, 'instance_id': 0, 'axis': 0, 'value': -1.000030518509476})>,\n",
       " <Event(1536-JoyAxisMotion {'joy': 0, 'instance_id': 0, 'axis': 0, 'value': 1.0})>,\n",
       " <Event(1536-JoyAxisMotion {'joy': 0, 'instance_id': 0, 'axis': 1, 'value': -0.003936887722403638})>,\n",
       " <Event(1536-JoyAxisMotion {'joy': 0, 'instance_id': 0, 'axis': 0, 'value': -0.003936887722403638})>]"
      ]
     },
     "execution_count": 54,
     "metadata": {},
     "output_type": "execute_result"
    }
   ],
   "source": [
    "pygame.event.get()"
   ]
  },
  {
   "cell_type": "code",
   "execution_count": 110,
   "id": "3b58a278-03da-4859-9a7b-30a430cbbde4",
   "metadata": {},
   "outputs": [],
   "source": [
    "def get_joy(ind=0):\n",
    "    pygame.event.get()\n",
    "    vel_forward = joysticks[ind].get_axis(0)\n",
    "    vel_side = joysticks[ind].get_axis(1)\n",
    "    rot = joysticks[ind].get_button(1) - joysticks[ind].get_button(3)\n",
    "    return vel_forward, vel_side, rot"
   ]
  },
  {
   "cell_type": "code",
   "execution_count": 109,
   "id": "e38a31ee-6563-4f30-b2c9-8d2d35b5f9c8",
   "metadata": {},
   "outputs": [
    {
     "data": {
      "text/plain": [
       "(0.999969482421875, -0.003936767578125, 0)"
      ]
     },
     "execution_count": 109,
     "metadata": {},
     "output_type": "execute_result"
    }
   ],
   "source": [
    "get_joy(0)"
   ]
  },
  {
   "cell_type": "code",
   "execution_count": null,
   "id": "f761b727-9f29-4475-916e-5ebb06de6593",
   "metadata": {},
   "outputs": [],
   "source": []
  },
  {
   "cell_type": "code",
   "execution_count": 5,
   "id": "b367438a-f611-4b31-8c29-d31cc782edad",
   "metadata": {},
   "outputs": [
    {
     "name": "stdout",
     "output_type": "stream",
     "text": [
      "\u001b[31mERROR: Could not find a version that satisfies the requirement ivlib (from versions: none)\u001b[0m\n",
      "\u001b[31mERROR: No matching distribution found for ivlib\u001b[0m\n"
     ]
    }
   ],
   "source": [
    "!pip install ivlib"
   ]
  },
  {
   "cell_type": "code",
   "execution_count": null,
   "id": "9d17e59e-9b85-495c-a374-f7b12dcfa251",
   "metadata": {},
   "outputs": [],
   "source": []
  }
 ],
 "metadata": {
  "kernelspec": {
   "display_name": "Python 3 (ipykernel)",
   "language": "python",
   "name": "python3"
  },
  "language_info": {
   "codemirror_mode": {
    "name": "ipython",
    "version": 3
   },
   "file_extension": ".py",
   "mimetype": "text/x-python",
   "name": "python",
   "nbconvert_exporter": "python",
   "pygments_lexer": "ipython3",
   "version": "3.8.10"
  }
 },
 "nbformat": 4,
 "nbformat_minor": 5
}
