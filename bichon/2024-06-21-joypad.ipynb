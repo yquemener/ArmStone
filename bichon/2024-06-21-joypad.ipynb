{
 "cells": [
  {
   "cell_type": "code",
   "execution_count": 12,
   "id": "20d8fbc4-3f31-4b20-970c-3dca7d4c7607",
   "metadata": {},
   "outputs": [
    {
     "name": "stderr",
     "output_type": "stream",
     "text": [
      "/home/armstone/.local/lib/python3.10/site-packages/skimage/_shared/compat.py:6: UserWarning: A NumPy version >=1.22.4 and <2.3.0 is required for this version of SciPy (detected version 1.21.5)\n",
      "  import scipy as sp\n"
     ]
    }
   ],
   "source": [
    "import pygame\n",
    "import ivlib\n",
    "from ivlib.ivlib.utils import fdir"
   ]
  },
  {
   "cell_type": "code",
   "execution_count": 13,
   "id": "a232b352-b91e-4e09-8aff-28c4a32d4a77",
   "metadata": {},
   "outputs": [],
   "source": [
    "pygame.joystick.init()\n",
    "joysticks = [pygame.joystick.Joystick(x) for x in range(pygame.joystick.get_count())]"
   ]
  },
  {
   "cell_type": "code",
   "execution_count": 38,
   "id": "3d159a7d-7eb8-4a18-81a3-2e99d7f9d16f",
   "metadata": {},
   "outputs": [
    {
     "data": {
      "text/plain": [
       "'USB Joystick'"
      ]
     },
     "execution_count": 38,
     "metadata": {},
     "output_type": "execute_result"
    }
   ],
   "source": [
    "joysticks[0].get_name()"
   ]
  },
  {
   "cell_type": "code",
   "execution_count": 33,
   "id": "fd01daf3-b253-4464-a80c-48ef56b7975c",
   "metadata": {},
   "outputs": [
    {
     "data": {
      "text/html": [
       "<table>\n",
       "<tr><td>get_axis</td><td style='text-align:left'>&lt;class &#x27;builtin_function_or_method&#x27;&gt;&nbsp;:&nbsp;&lt;built-in method get_axis of pygame.joystick.Joystick object at 0x716120c6efd0&gt;</td></tr>\n",
       "<tr><td>get_ball</td><td style='text-align:left'>&lt;class &#x27;builtin_function_or_method&#x27;&gt;&nbsp;:&nbsp;&lt;built-in method get_ball of pygame.joystick.Joystick object at 0x716120c6efd0&gt;</td></tr>\n",
       "<tr><td>get_button</td><td style='text-align:left'>&lt;class &#x27;builtin_function_or_method&#x27;&gt;&nbsp;:&nbsp;&lt;built-in method get_button of pygame.joystick.Joystick object at 0x716120c6efd0&gt;</td></tr>\n",
       "<tr><td>get_guid</td><td style='text-align:left'>&lt;class &#x27;builtin_function_or_method&#x27;&gt;&nbsp;:&nbsp;&lt;built-in method get_guid of pygame.joystick.Joystick object at 0x716120c6efd0&gt;</td></tr>\n",
       "<tr><td>get_hat</td><td style='text-align:left'>&lt;class &#x27;builtin_function_or_method&#x27;&gt;&nbsp;:&nbsp;&lt;built-in method get_hat of pygame.joystick.Joystick object at 0x716120c6efd0&gt;</td></tr>\n",
       "<tr><td>get_id</td><td style='text-align:left'>&lt;class &#x27;builtin_function_or_method&#x27;&gt;&nbsp;:&nbsp;&lt;built-in method get_id of pygame.joystick.Joystick object at 0x716120c6efd0&gt;</td></tr>\n",
       "<tr><td>get_init</td><td style='text-align:left'>&lt;class &#x27;builtin_function_or_method&#x27;&gt;&nbsp;:&nbsp;&lt;built-in method get_init of pygame.joystick.Joystick object at 0x716120c6efd0&gt;</td></tr>\n",
       "<tr><td>get_instance_id</td><td style='text-align:left'>&lt;class &#x27;builtin_function_or_method&#x27;&gt;&nbsp;:&nbsp;&lt;built-in method get_instance_id of pygame.joystick.Joystick object at 0x716120c6efd0&gt;</td></tr>\n",
       "<tr><td>get_name</td><td style='text-align:left'>&lt;class &#x27;builtin_function_or_method&#x27;&gt;&nbsp;:&nbsp;&lt;built-in method get_name of pygame.joystick.Joystick object at 0x716120c6efd0&gt;</td></tr>\n",
       "<tr><td>get_numaxes</td><td style='text-align:left'>&lt;class &#x27;builtin_function_or_method&#x27;&gt;&nbsp;:&nbsp;&lt;built-in method get_numaxes of pygame.joystick.Joystick object at 0x716120c6efd0&gt;</td></tr>\n",
       "<tr><td>get_numballs</td><td style='text-align:left'>&lt;class &#x27;builtin_function_or_method&#x27;&gt;&nbsp;:&nbsp;&lt;built-in method get_numballs of pygame.joystick.Joystick object at 0x716120c6efd0&gt;</td></tr>\n",
       "<tr><td>get_numbuttons</td><td style='text-align:left'>&lt;class &#x27;builtin_function_or_method&#x27;&gt;&nbsp;:&nbsp;&lt;built-in method get_numbuttons of pygame.joystick.Joystick object at 0x716120c6efd0&gt;</td></tr>\n",
       "<tr><td>get_numhats</td><td style='text-align:left'>&lt;class &#x27;builtin_function_or_method&#x27;&gt;&nbsp;:&nbsp;&lt;built-in method get_numhats of pygame.joystick.Joystick object at 0x716120c6efd0&gt;</td></tr>\n",
       "<tr><td>get_power_level</td><td style='text-align:left'>&lt;class &#x27;builtin_function_or_method&#x27;&gt;&nbsp;:&nbsp;&lt;built-in method get_power_level of pygame.joystick.Joystick object at 0x716120c6efd0&gt;</td></tr>\n",
       "<tr><td>init</td><td style='text-align:left'>&lt;class &#x27;builtin_function_or_method&#x27;&gt;&nbsp;:&nbsp;&lt;built-in method init of pygame.joystick.Joystick object at 0x716120c6efd0&gt;</td></tr>\n",
       "<tr><td>quit</td><td style='text-align:left'>&lt;class &#x27;builtin_function_or_method&#x27;&gt;&nbsp;:&nbsp;&lt;built-in method quit of pygame.joystick.Joystick object at 0x716120c6efd0&gt;</td></tr>\n",
       "<tr><td>rumble</td><td style='text-align:left'>&lt;class &#x27;builtin_function_or_method&#x27;&gt;&nbsp;:&nbsp;&lt;built-in method rumble of pygame.joystick.Joystick object at 0x716120c6efd0&gt;</td></tr>\n",
       "<tr><td>stop_rumble</td><td style='text-align:left'>&lt;class &#x27;builtin_function_or_method&#x27;&gt;&nbsp;:&nbsp;&lt;built-in method stop_rumble of pygame.joystick.Joystick object at 0x716120c6efd0&gt;</td></tr>\n",
       "</table>"
      ],
      "text/plain": [
       "<IPython.core.display.HTML object>"
      ]
     },
     "metadata": {},
     "output_type": "display_data"
    }
   ],
   "source": [
    "fdir(joysticks[0])"
   ]
  },
  {
   "cell_type": "code",
   "execution_count": 44,
   "id": "f29beff1-abbc-4e9f-95ab-651715780d30",
   "metadata": {},
   "outputs": [],
   "source": [
    "joysticks[0].init()"
   ]
  },
  {
   "cell_type": "code",
   "execution_count": 48,
   "id": "b7d2def5-74f6-43dc-b0f5-9024440c65dd",
   "metadata": {},
   "outputs": [],
   "source": [
    "from time import sleep"
   ]
  },
  {
   "cell_type": "code",
   "execution_count": 51,
   "id": "777d564e-45c8-4a0f-ad97-779c89ca6a05",
   "metadata": {},
   "outputs": [
    {
     "data": {
      "text/plain": [
       "<pygame.joystick.Joystick at 0x716120c6efd0>"
      ]
     },
     "execution_count": 51,
     "metadata": {},
     "output_type": "execute_result"
    }
   ],
   "source": [
    "pygame.joystick.Joystick(0)"
   ]
  },
  {
   "cell_type": "code",
   "execution_count": 52,
   "id": "1baa3f56-69f8-43ce-b5c1-e65f51d88fb7",
   "metadata": {},
   "outputs": [
    {
     "data": {
      "text/plain": [
       "<pygame.joystick.Joystick at 0x716120c6efd0>"
      ]
     },
     "execution_count": 52,
     "metadata": {},
     "output_type": "execute_result"
    }
   ],
   "source": [
    "joysticks[0]"
   ]
  },
  {
   "cell_type": "code",
   "execution_count": 53,
   "id": "430d74ad-802f-40a3-ada0-f42344820843",
   "metadata": {},
   "outputs": [
    {
     "data": {
      "text/plain": [
       "(5, 0)"
      ]
     },
     "execution_count": 53,
     "metadata": {},
     "output_type": "execute_result"
    }
   ],
   "source": [
    "pygame.init()"
   ]
  },
  {
   "cell_type": "code",
   "execution_count": 54,
   "id": "54e4f60e-969e-446e-b503-82345d83a116",
   "metadata": {},
   "outputs": [
    {
     "data": {
      "text/plain": [
       "[<Event(4352-AudioDeviceAdded {'which': 0, 'iscapture': 0})>,\n",
       " <Event(1536-JoyAxisMotion {'joy': 0, 'instance_id': 0, 'axis': 0, 'value': -0.003936887722403638})>,\n",
       " <Event(1536-JoyAxisMotion {'joy': 0, 'instance_id': 0, 'axis': 0, 'value': -1.000030518509476})>,\n",
       " <Event(1536-JoyAxisMotion {'joy': 0, 'instance_id': 0, 'axis': 0, 'value': -0.003936887722403638})>,\n",
       " <Event(1536-JoyAxisMotion {'joy': 0, 'instance_id': 0, 'axis': 1, 'value': -0.003936887722403638})>,\n",
       " <Event(1536-JoyAxisMotion {'joy': 0, 'instance_id': 0, 'axis': 1, 'value': 1.0})>,\n",
       " <Event(1536-JoyAxisMotion {'joy': 0, 'instance_id': 0, 'axis': 0, 'value': 1.0})>,\n",
       " <Event(1536-JoyAxisMotion {'joy': 0, 'instance_id': 0, 'axis': 1, 'value': -0.003936887722403638})>,\n",
       " <Event(1536-JoyAxisMotion {'joy': 0, 'instance_id': 0, 'axis': 1, 'value': -1.000030518509476})>,\n",
       " <Event(1536-JoyAxisMotion {'joy': 0, 'instance_id': 0, 'axis': 0, 'value': -0.003936887722403638})>,\n",
       " <Event(1536-JoyAxisMotion {'joy': 0, 'instance_id': 0, 'axis': 0, 'value': -1.000030518509476})>,\n",
       " <Event(1536-JoyAxisMotion {'joy': 0, 'instance_id': 0, 'axis': 0, 'value': 1.0})>,\n",
       " <Event(1536-JoyAxisMotion {'joy': 0, 'instance_id': 0, 'axis': 1, 'value': -0.003936887722403638})>,\n",
       " <Event(1536-JoyAxisMotion {'joy': 0, 'instance_id': 0, 'axis': 0, 'value': -0.003936887722403638})>]"
      ]
     },
     "execution_count": 54,
     "metadata": {},
     "output_type": "execute_result"
    }
   ],
   "source": [
    "pygame.event.get()"
   ]
  },
  {
   "cell_type": "code",
   "execution_count": 110,
   "id": "3b58a278-03da-4859-9a7b-30a430cbbde4",
   "metadata": {},
   "outputs": [],
   "source": [
    "def get_joy(ind=0):\n",
    "    pygame.event.get()\n",
    "    vel_forward = joysticks[ind].get_axis(0)\n",
    "    vel_side = joysticks[ind].get_axis(1)\n",
    "    rot = joysticks[ind].get_button(1) - joysticks[ind].get_button(3)\n",
    "    return vel_forward, vel_side, rot"
   ]
  },
  {
   "cell_type": "code",
   "execution_count": 109,
   "id": "e38a31ee-6563-4f30-b2c9-8d2d35b5f9c8",
   "metadata": {},
   "outputs": [
    {
     "data": {
      "text/plain": [
       "(0.999969482421875, -0.003936767578125, 0)"
      ]
     },
     "execution_count": 109,
     "metadata": {},
     "output_type": "execute_result"
    }
   ],
   "source": [
    "get_joy(0)"
   ]
  },
  {
   "cell_type": "code",
   "execution_count": null,
   "id": "f761b727-9f29-4475-916e-5ebb06de6593",
   "metadata": {},
   "outputs": [],
   "source": []
  },
  {
   "cell_type": "code",
   "execution_count": null,
   "id": "b367438a-f611-4b31-8c29-d31cc782edad",
   "metadata": {},
   "outputs": [],
   "source": []
  }
 ],
 "metadata": {
  "kernelspec": {
   "display_name": "Python 3 (ipykernel)",
   "language": "python",
   "name": "python3"
  },
  "language_info": {
   "codemirror_mode": {
    "name": "ipython",
    "version": 3
   },
   "file_extension": ".py",
   "mimetype": "text/x-python",
   "name": "python",
   "nbconvert_exporter": "python",
   "pygments_lexer": "ipython3",
   "version": "3.10.12"
  }
 },
 "nbformat": 4,
 "nbformat_minor": 5
}
