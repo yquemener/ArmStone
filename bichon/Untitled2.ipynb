{
 "cells": [
  {
   "cell_type": "code",
   "execution_count": 3,
   "id": "b51af44a-4d34-417f-b3ce-71a9aac38b3f",
   "metadata": {},
   "outputs": [],
   "source": [
    "class Hehe :\n",
    "    def __init__(self):\n",
    "        self.a = 1\n",
    "    def da(self) :\n",
    "        return self.a*2"
   ]
  },
  {
   "cell_type": "code",
   "execution_count": 5,
   "id": "7be976d6-f145-4a07-9b19-4cd3808ccd28",
   "metadata": {},
   "outputs": [],
   "source": [
    "h = Hehe()"
   ]
  },
  {
   "cell_type": "code",
   "execution_count": 8,
   "id": "b629e501-7476-42a0-abab-79be8c9da806",
   "metadata": {},
   "outputs": [],
   "source": [
    "h.a = 4"
   ]
  },
  {
   "cell_type": "code",
   "execution_count": 10,
   "id": "19cd710b-5a6c-4a27-8d85-d95c747fb12d",
   "metadata": {},
   "outputs": [
    {
     "data": {
      "text/plain": [
       "8"
      ]
     },
     "execution_count": 10,
     "metadata": {},
     "output_type": "execute_result"
    }
   ],
   "source": [
    "h.da()"
   ]
  },
  {
   "cell_type": "code",
   "execution_count": 1,
   "id": "21125fd3-2087-489d-9922-2bf2ef9fd461",
   "metadata": {},
   "outputs": [
    {
     "data": {
      "text/plain": [
       "28.25"
      ]
     },
     "execution_count": 1,
     "metadata": {},
     "output_type": "execute_result"
    }
   ],
   "source": [
    "56.5/2"
   ]
  },
  {
   "cell_type": "code",
   "execution_count": 2,
   "id": "e6be9dd1-d5da-4d10-bd05-b2ac9ecabeb9",
   "metadata": {},
   "outputs": [
    {
     "data": {
      "text/plain": [
       "32.0"
      ]
     },
     "execution_count": 2,
     "metadata": {},
     "output_type": "execute_result"
    }
   ],
   "source": [
    "64/2"
   ]
  },
  {
   "cell_type": "code",
   "execution_count": null,
   "id": "fe9f390c-bef5-4013-a197-18c4f96e964d",
   "metadata": {},
   "outputs": [],
   "source": []
  }
 ],
 "metadata": {
  "kernelspec": {
   "display_name": "Python 3 (ipykernel)",
   "language": "python",
   "name": "python3"
  },
  "language_info": {
   "codemirror_mode": {
    "name": "ipython",
    "version": 3
   },
   "file_extension": ".py",
   "mimetype": "text/x-python",
   "name": "python",
   "nbconvert_exporter": "python",
   "pygments_lexer": "ipython3",
   "version": "3.8.10"
  }
 },
 "nbformat": 4,
 "nbformat_minor": 5
}
