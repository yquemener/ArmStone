{
 "cells": [
  {
   "cell_type": "code",
   "execution_count": 1,
   "id": "f28a148d-d207-4f92-bf0b-0a7d2203494a",
   "metadata": {},
   "outputs": [],
   "source": [
    "%load_ext autoreload\n",
    "%autoreload 2"
   ]
  },
  {
   "cell_type": "code",
   "execution_count": 2,
   "id": "31dae479-7bf4-48de-9c7d-0cbd91568427",
   "metadata": {},
   "outputs": [
    {
     "name": "stdout",
     "output_type": "stream",
     "text": [
      "pygame 2.6.0 (SDL 2.28.4, Python 3.8.10)\n",
      "Hello from the pygame community. https://www.pygame.org/contribute.html\n"
     ]
    }
   ],
   "source": [
    "from asserv import SpeedController, poupette_config\n",
    "from holonomic import inverse_kinematics, get_joy\n",
    "import pygame\n",
    "from time import time, sleep"
   ]
  },
  {
   "cell_type": "code",
   "execution_count": 3,
   "id": "8cddf6b2-f857-49f5-813c-aa7b5e5c9358",
   "metadata": {},
   "outputs": [],
   "source": [
    "pygame.init()\n",
    "joy = pygame.joystick.Joystick(0)"
   ]
  },
  {
   "cell_type": "code",
   "execution_count": 4,
   "id": "21c2eed7-9d2e-43de-bd72-5f64a878a8fb",
   "metadata": {},
   "outputs": [],
   "source": [
    "speedcontrollers = list()"
   ]
  },
  {
   "cell_type": "code",
   "execution_count": 5,
   "id": "0df7547c-ce85-49d4-81fe-07cecfe1e3c3",
   "metadata": {},
   "outputs": [],
   "source": [
    "for path in poupette_config:\n",
    "    speedcontrollers.append(SpeedController(path))"
   ]
  },
  {
   "cell_type": "code",
   "execution_count": null,
   "id": "72fcc493-2332-4a49-8278-1296f19e6dec",
   "metadata": {},
   "outputs": [],
   "source": []
  },
  {
   "cell_type": "code",
   "execution_count": 6,
   "id": "898c9610-8a2e-4138-9735-d7858a7496df",
   "metadata": {},
   "outputs": [
    {
     "name": "stdout",
     "output_type": "stream",
     "text": [
      "(0.0, 0.0, 0.0, 0.0)548828125, -39.998779296875, 0.285, 0.32, 0.08] (444.64546203613276, -194.6454620361328, 410.3360748291015, -160.33607482910156)\n"
     ]
    }
   ],
   "source": [
    "max_time=100.0\n",
    "starttime = time()\n",
    "i=0\n",
    "while time()-starttime<max_time:\n",
    "    i+=1\n",
    "    cmd_joy = list(get_joy(joy))\n",
    "    cmd_joy[0]=-cmd_joy[0]*10\n",
    "    cmd_joy[1]=-cmd_joy[1]*10\n",
    "    cmd_joy[2]=-cmd_joy[2]*40\n",
    "    cmd_joy.append(.285)\n",
    "    cmd_joy.append(.32)\n",
    "    cmd_joy.append(.08)\n",
    "    wheels_speed = inverse_kinematics(*cmd_joy)\n",
    "    if i%100 == 0:\n",
    "        print(f\"{time()-starttime:.1f}\", cmd_joy, wheels_speed, end=\"\\r\")\n",
    "    for wheel, sc in zip(wheels_speed, speedcontrollers):\n",
    "        sc.target_log(wheel*100)\n",
    "    sleep(.001)\n",
    "wheels_speed = inverse_kinematics(0,0,0,.285, .32)\n",
    "print(wheels_speed)\n",
    "for wheel, sc in zip(wheels_speed, speedcontrollers):\n",
    "    sc.target_log(wheel*100)"
   ]
  },
  {
   "cell_type": "code",
   "execution_count": 60,
   "id": "89624924-76b1-4c3d-a5ab-221871828187",
   "metadata": {},
   "outputs": [
    {
     "name": "stdout",
     "output_type": "stream",
     "text": [
      "(0.0, 0.0, 0.0, 0.0)\n"
     ]
    }
   ],
   "source": [
    "wheels_speed = inverse_kinematics(0,0,0,.285, .32)\n",
    "print(wheels_speed)\n",
    "for wheel, sc in zip(wheels_speed, speedcontrollers):\n",
    "    sc.target_log(wheel*100)"
   ]
  },
  {
   "cell_type": "code",
   "execution_count": 42,
   "id": "be3285d3-8a45-4ad1-b129-de9790f6537a",
   "metadata": {},
   "outputs": [],
   "source": []
  },
  {
   "cell_type": "code",
   "execution_count": null,
   "id": "a2318f21-bb22-4844-8462-e5794910662b",
   "metadata": {},
   "outputs": [],
   "source": []
  }
 ],
 "metadata": {
  "kernelspec": {
   "display_name": "Python 3 (ipykernel)",
   "language": "python",
   "name": "python3"
  },
  "language_info": {
   "codemirror_mode": {
    "name": "ipython",
    "version": 3
   },
   "file_extension": ".py",
   "mimetype": "text/x-python",
   "name": "python",
   "nbconvert_exporter": "python",
   "pygments_lexer": "ipython3",
   "version": "3.8.10"
  }
 },
 "nbformat": 4,
 "nbformat_minor": 5
}
