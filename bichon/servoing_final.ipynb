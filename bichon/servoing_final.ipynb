{
 "cells": [
  {
   "cell_type": "code",
   "execution_count": 2,
   "id": "395c85b0-33ae-445e-a36a-2c07ee850b89",
   "metadata": {},
   "outputs": [],
   "source": [
    "from pyvesc import VESC\n",
    "from time import sleep\n",
    "\n",
    "class SpeedController :\n",
    "    def __init__ (self, vescpath) :\n",
    "        self.rpmobj = 0\n",
    "        self.k = 0.001\n",
    "        self.rpml = list()\n",
    "        self.vesc = VESC(serial_port=vescpath)\n",
    "        self.current_duty_cycle = 0\n",
    "\n",
    "    def set_duty_cycle(self, val):\n",
    "        if val>0.5:\n",
    "            val=0.5\n",
    "        if val<-0.5:\n",
    "            val=-0.5\n",
    "        self.vesc.set_duty_cycle(val)\n",
    "    \n",
    "    def asserv(self, rpm):\n",
    "        err = self.rpmobj - rpm\n",
    "        delta = self.k * err\n",
    "        return(delta)\n",
    "    \n",
    "    def cycle(self):\n",
    "\n",
    "        try:\n",
    "            rpm = -self.vesc.get_rpm()\n",
    "        except AttributeError:\n",
    "            return\n",
    "\n",
    "        self.current_duty_cycle = self.current_duty_cycle+self.asserv(rpm)  \n",
    "        self.set_duty_cycle(self.current_duty_cycle)\n",
    "        sleep(0.01)"
   ]
  },
  {
   "cell_type": "code",
   "execution_count": 3,
   "id": "efb22f09-e92c-42c5-9080-0cc2e9a5b703",
   "metadata": {},
   "outputs": [],
   "source": [
    "a = SpeedController(vescpath='/dev/serial/by-path/pci-0000:00:14.0-usb-0:7.2:1.0')"
   ]
  },
  {
   "cell_type": "code",
   "execution_count": 4,
   "id": "da4cf95b-c408-4a3b-b5ad-2e9ec78f1435",
   "metadata": {},
   "outputs": [],
   "source": [
    "a.rpmobj = 50"
   ]
  },
  {
   "cell_type": "code",
   "execution_count": 7,
   "id": "81a297db-fea5-4072-9ed9-639827bdf831",
   "metadata": {},
   "outputs": [
    {
     "ename": "NameError",
     "evalue": "name 'n' is not defined",
     "output_type": "error",
     "traceback": [
      "\u001b[0;31m---------------------------------------------------------------------------\u001b[0m",
      "\u001b[0;31mNameError\u001b[0m                                 Traceback (most recent call last)",
      "Cell \u001b[0;32mIn[7], line 1\u001b[0m\n\u001b[0;32m----> 1\u001b[0m \u001b[38;5;28;01mif\u001b[39;00m \u001b[43mn\u001b[49m \u001b[38;5;129;01min\u001b[39;00m \u001b[38;5;28mrange\u001b[39m(\u001b[38;5;241m5\u001b[39m) :\n\u001b[1;32m      2\u001b[0m     a\u001b[38;5;241m.\u001b[39mcycle()\n",
      "\u001b[0;31mNameError\u001b[0m: name 'n' is not defined"
     ]
    }
   ],
   "source": [
    "if n in range(5) :\n",
    "    a.cycle()"
   ]
  },
  {
   "cell_type": "code",
   "execution_count": 1,
   "id": "3e7dc6e3-db54-4fa6-a5e7-a0a6883ec7db",
   "metadata": {},
   "outputs": [
    {
     "ename": "NameError",
     "evalue": "name 'set_duty_cycle' is not defined",
     "output_type": "error",
     "traceback": [
      "\u001b[0;31m---------------------------------------------------------------------------\u001b[0m",
      "\u001b[0;31mNameError\u001b[0m                                 Traceback (most recent call last)",
      "Cell \u001b[0;32mIn[1], line 1\u001b[0m\n\u001b[0;32m----> 1\u001b[0m \u001b[43mset_duty_cycle\u001b[49m(\u001b[38;5;241m.0\u001b[39m)\n",
      "\u001b[0;31mNameError\u001b[0m: name 'set_duty_cycle' is not defined"
     ]
    }
   ],
   "source": []
  },
  {
   "cell_type": "code",
   "execution_count": null,
   "id": "fb95af1d-887a-4bc9-a3af-ba9f6b287467",
   "metadata": {},
   "outputs": [],
   "source": []
  }
 ],
 "metadata": {
  "kernelspec": {
   "display_name": "Python 3 (ipykernel)",
   "language": "python",
   "name": "python3"
  },
  "language_info": {
   "codemirror_mode": {
    "name": "ipython",
    "version": 3
   },
   "file_extension": ".py",
   "mimetype": "text/x-python",
   "name": "python",
   "nbconvert_exporter": "python",
   "pygments_lexer": "ipython3",
   "version": "3.10.12"
  }
 },
 "nbformat": 4,
 "nbformat_minor": 5
}
